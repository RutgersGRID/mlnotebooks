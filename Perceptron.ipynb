{
  "nbformat": 4,
  "nbformat_minor": 0,
  "metadata": {
    "colab": {
      "name": "Perceptron",
      "provenance": [],
      "collapsed_sections": [],
      "include_colab_link": true
    },
    "kernelspec": {
      "name": "python3",
      "display_name": "Python 3"
    },
    "accelerator": "GPU"
  },
  "cells": [
    {
      "cell_type": "markdown",
      "metadata": {
        "id": "view-in-github",
        "colab_type": "text"
      },
      "source": [
        "<a href=\"https://colab.research.google.com/github/RutgersGRID/mlnotebooks/blob/master/Perceptron.ipynb\" target=\"_parent\"><img src=\"https://colab.research.google.com/assets/colab-badge.svg\" alt=\"Open In Colab\"/></a>"
      ]
    },
    {
      "cell_type": "code",
      "metadata": {
        "id": "kvfSryjDlsSI",
        "colab_type": "code",
        "colab": {}
      },
      "source": [
        "import time\n",
        "import numpy as np\n",
        "from mpl_toolkits.mplot3d import Axes3D\n",
        "import matplotlib.pyplot as plt\n",
        "#import matplotlib.animation\n",
        "from matplotlib.animation import FuncAnimation\n",
        "\n",
        "import tensorflow as tf\n",
        "#import tf.keras\n",
        "\n",
        "from tensorflow.keras.models import Sequential\n",
        "from tensorflow.keras.layers import Dense, Activation\n",
        "from tensorflow.keras import optimizers\n"
      ],
      "execution_count": 0,
      "outputs": []
    },
    {
      "cell_type": "code",
      "metadata": {
        "id": "5XC7usmGltg_",
        "colab_type": "code",
        "outputId": "321d445b-acaf-48f6-e596-8273c4eb2860",
        "colab": {
          "base_uri": "https://localhost:8080/",
          "height": 269
        }
      },
      "source": [
        "\n",
        "class1center=[3, 3]\n",
        "class2center=[0, 0]\n",
        "\n",
        "numsamples=2000\n",
        "\n",
        "points1=class1center+np.random.randn(numsamples, 2)\n",
        "points2=class2center+.5*np.random.randn(numsamples, 2)\n",
        "\n",
        "plt.ion()\n",
        "fig=plt.figure()\n",
        "ax=fig.add_subplot(111)#, projection='3d')\n",
        "\n",
        "#ax.scatter(points1[:, 0], points1[:, 1], points1[:, 2], c='r')\n",
        "#ax.scatter(points2[:, 0], points2[:, 1], points2[:, 2], c='b')\n",
        "ax.scatter(points1[:, 0], points1[:, 1], c='r')\n",
        "ax.scatter(points2[:, 0], points2[:, 1], c='b')\n",
        "\n",
        "plt.show()\n",
        "#plt.pause(0.01)\n",
        "\n",
        "data=np.vstack((points1, points2))\n",
        "labels=np.vstack((np.ones((numsamples, 1)), np.zeros((numsamples, 1))))"
      ],
      "execution_count": 0,
      "outputs": [
        {
          "output_type": "display_data",
          "data": {
            "image/png": "[encoded data removed]",
            "text/plain": [
              "<Figure size 432x288 with 1 Axes>"
            ]
          },
          "metadata": {
            "tags": []
          }
        }
      ]
    },
    {
      "cell_type": "code",
      "metadata": {
        "id": "bBQ0fxybltkJ",
        "colab_type": "code",
        "outputId": "e0ed6238-c852-4849-ea30-d74f41a7e292",
        "colab": {
          "base_uri": "https://localhost:8080/",
          "height": 326
        }
      },
      "source": [
        "model=Sequential()\n",
        "model.add(Dense(1, input_dim=2))\n",
        "model.add(Activation('sigmoid'))\n",
        "print(model.summary())\n"
      ],
      "execution_count": 0,
      "outputs": [
        {
          "output_type": "stream",
          "text": [
            "WARNING: Logging before flag parsing goes to stderr.\n",
            "W0725 15:03:33.381598 139772750931840 deprecation.py:506] From /usr/local/lib/python3.6/dist-packages/tensorflow/python/ops/init_ops.py:1251: calling VarianceScaling.__init__ (from tensorflow.python.ops.init_ops) with dtype is deprecated and will be removed in a future version.\n",
            "Instructions for updating:\n",
            "Call initializer instance with the dtype argument instead of passing it to the constructor\n"
          ],
          "name": "stderr"
        },
        {
          "output_type": "stream",
          "text": [
            "Model: \"sequential\"\n",
            "_________________________________________________________________\n",
            "Layer (type)                 Output Shape              Param #   \n",
            "=================================================================\n",
            "dense (Dense)                (None, 1)                 3         \n",
            "_________________________________________________________________\n",
            "activation (Activation)      (None, 1)                 0         \n",
            "=================================================================\n",
            "Total params: 3\n",
            "Trainable params: 3\n",
            "Non-trainable params: 0\n",
            "_________________________________________________________________\n",
            "None\n"
          ],
          "name": "stdout"
        }
      ]
    },
    {
      "cell_type": "code",
      "metadata": {
        "id": "nyEXid4Qltmu",
        "colab_type": "code",
        "outputId": "fa1493bc-09d7-4c21-a155-cbc2376456ef",
        "colab": {
          "base_uri": "https://localhost:8080/",
          "height": 88
        }
      },
      "source": [
        "model.compile(optimizer='SGD', loss='binary_crossentropy', metrics=['accuracy'])\n"
      ],
      "execution_count": 0,
      "outputs": [
        {
          "output_type": "stream",
          "text": [
            "W0725 15:04:10.026079 139772750931840 deprecation.py:323] From /usr/local/lib/python3.6/dist-packages/tensorflow/python/ops/nn_impl.py:180: add_dispatch_support.<locals>.wrapper (from tensorflow.python.ops.array_ops) is deprecated and will be removed in a future version.\n",
            "Instructions for updating:\n",
            "Use tf.where in 2.0, which has the same broadcast rule as np.where\n"
          ],
          "name": "stderr"
        }
      ]
    },
    {
      "cell_type": "code",
      "metadata": {
        "id": "_l05lFyHjfnY",
        "colab_type": "code",
        "outputId": "398947cf-946e-43d5-a60f-955d51c2e534",
        "colab": {
          "base_uri": "https://localhost:8080/",
          "height": 1000
        }
      },
      "source": [
        "#for i in range(0, 50):\n",
        "def update(i):\n",
        "    print(i)\n",
        "    w=model.get_weights()\n",
        "    a=w[0][0][0]\n",
        "    b=w[0][1][0]\n",
        "    c=w[1][0]\n",
        "  \n",
        "    x=np.array([-1, 4])\n",
        "    y=-(a/b)*x-c/b\n",
        "\n",
        "    ax.clear()\n",
        "    ax.scatter(points1[:, 0], points1[:, 1], c='r')\n",
        "    ax.scatter(points2[:, 0], points2[:, 1], c='b')\n",
        "    ax.plot(x, y, 'g-')\n",
        "    \n",
        "    model.fit(data, labels, epochs=1, batch_size=32)\n",
        "    \n",
        "ani= FuncAnimation(fig, update, frames=range(0,50),\n",
        "                                       interval=100, repeat=False)\n",
        "ani.save('scattergraph.gif', dpi=80, writer='imagemagick')\n",
        "\n"
      ],
      "execution_count": 0,
      "outputs": [
        {
          "output_type": "stream",
          "text": [
            "W0725 15:06:33.328477 139772750931840 animation.py:1136] MovieWriter imagemagick unavailable. Trying to use pillow instead.\n"
          ],
          "name": "stderr"
        },
        {
          "output_type": "stream",
          "text": [
            "0\n",
            "4000/4000 [==============================] - 1s 269us/sample - loss: 0.3683 - acc: 0.7883\n",
            "0\n",
            "4000/4000 [==============================] - 0s 80us/sample - loss: 0.3127 - acc: 0.8637\n",
            "1\n",
            "4000/4000 [==============================] - 0s 87us/sample - loss: 0.2700 - acc: 0.9153\n",
            "2\n",
            "4000/4000 [==============================] - 0s 76us/sample - loss: 0.2367 - acc: 0.9445\n",
            "3\n",
            "4000/4000 [==============================] - 0s 92us/sample - loss: 0.2102 - acc: 0.9655\n",
            "4\n",
            "4000/4000 [==============================] - 0s 98us/sample - loss: 0.1889 - acc: 0.9755\n",
            "5\n",
            "4000/4000 [==============================] - 0s 94us/sample - loss: 0.1714 - acc: 0.9815\n",
            "6\n",
            "4000/4000 [==============================] - 0s 96us/sample - loss: 0.1570 - acc: 0.9862\n",
            "7\n",
            "4000/4000 [==============================] - 0s 101us/sample - loss: 0.1448 - acc: 0.9902\n",
            "8\n",
            "4000/4000 [==============================] - 0s 90us/sample - loss: 0.1345 - acc: 0.9933\n",
            "9\n",
            "4000/4000 [==============================] - 0s 97us/sample - loss: 0.1256 - acc: 0.9940\n",
            "10\n",
            "4000/4000 [==============================] - 0s 94us/sample - loss: 0.1179 - acc: 0.9950\n",
            "11\n",
            "4000/4000 [==============================] - 0s 88us/sample - loss: 0.1111 - acc: 0.9962\n",
            "12\n",
            "4000/4000 [==============================] - 0s 87us/sample - loss: 0.1052 - acc: 0.9965\n",
            "13\n",
            "4000/4000 [==============================] - 0s 90us/sample - loss: 0.0999 - acc: 0.9967\n",
            "14\n",
            "4000/4000 [==============================] - 0s 92us/sample - loss: 0.0952 - acc: 0.9970\n",
            "15\n",
            "4000/4000 [==============================] - 0s 93us/sample - loss: 0.0910 - acc: 0.9970\n",
            "16\n",
            "4000/4000 [==============================] - 0s 89us/sample - loss: 0.0872 - acc: 0.9973\n",
            "17\n",
            "4000/4000 [==============================] - 0s 94us/sample - loss: 0.0837 - acc: 0.9973\n",
            "18\n",
            "4000/4000 [==============================] - 0s 93us/sample - loss: 0.0805 - acc: 0.9975\n",
            "19\n",
            "4000/4000 [==============================] - 0s 95us/sample - loss: 0.0776 - acc: 0.9975\n",
            "20\n",
            "4000/4000 [==============================] - 0s 90us/sample - loss: 0.0750 - acc: 0.9975\n",
            "21\n",
            "4000/4000 [==============================] - 0s 91us/sample - loss: 0.0725 - acc: 0.9975\n",
            "22\n",
            "4000/4000 [==============================] - 0s 96us/sample - loss: 0.0702 - acc: 0.9975\n",
            "23\n",
            "4000/4000 [==============================] - 0s 96us/sample - loss: 0.0681 - acc: 0.9975\n",
            "24\n",
            "4000/4000 [==============================] - 0s 94us/sample - loss: 0.0662 - acc: 0.9975\n",
            "25\n",
            "4000/4000 [==============================] - 0s 89us/sample - loss: 0.0643 - acc: 0.9975\n",
            "26\n",
            "4000/4000 [==============================] - 0s 88us/sample - loss: 0.0626 - acc: 0.9975\n",
            "27\n",
            "4000/4000 [==============================] - 0s 95us/sample - loss: 0.0610 - acc: 0.9975\n",
            "28\n",
            "4000/4000 [==============================] - 0s 90us/sample - loss: 0.0595 - acc: 0.9975\n",
            "29\n",
            "4000/4000 [==============================] - 0s 93us/sample - loss: 0.0581 - acc: 0.9975\n",
            "30\n",
            "4000/4000 [==============================] - 0s 86us/sample - loss: 0.0568 - acc: 0.9977\n",
            "31\n",
            "4000/4000 [==============================] - 0s 88us/sample - loss: 0.0555 - acc: 0.9977\n",
            "32\n",
            "4000/4000 [==============================] - 0s 99us/sample - loss: 0.0543 - acc: 0.9977\n",
            "33\n",
            "4000/4000 [==============================] - 0s 95us/sample - loss: 0.0532 - acc: 0.9977\n",
            "34\n",
            "4000/4000 [==============================] - 0s 98us/sample - loss: 0.0521 - acc: 0.9977\n",
            "35\n",
            "4000/4000 [==============================] - 0s 93us/sample - loss: 0.0511 - acc: 0.9977\n",
            "36\n",
            "4000/4000 [==============================] - 0s 94us/sample - loss: 0.0501 - acc: 0.9977\n",
            "37\n",
            "4000/4000 [==============================] - 0s 89us/sample - loss: 0.0492 - acc: 0.9977\n",
            "38\n",
            "4000/4000 [==============================] - 0s 89us/sample - loss: 0.0483 - acc: 0.9977\n",
            "39\n",
            "4000/4000 [==============================] - 0s 88us/sample - loss: 0.0475 - acc: 0.9977\n",
            "40\n",
            "4000/4000 [==============================] - 0s 99us/sample - loss: 0.0467 - acc: 0.9977\n",
            "41\n",
            "4000/4000 [==============================] - 0s 90us/sample - loss: 0.0459 - acc: 0.9977\n",
            "42\n",
            "4000/4000 [==============================] - 0s 97us/sample - loss: 0.0452 - acc: 0.9977\n",
            "43\n",
            "4000/4000 [==============================] - 0s 88us/sample - loss: 0.0445 - acc: 0.9977\n",
            "44\n",
            "4000/4000 [==============================] - 0s 95us/sample - loss: 0.0438 - acc: 0.9977\n",
            "45\n",
            "4000/4000 [==============================] - 0s 88us/sample - loss: 0.0432 - acc: 0.9977\n",
            "46\n",
            "4000/4000 [==============================] - 0s 98us/sample - loss: 0.0425 - acc: 0.9977\n",
            "47\n",
            "4000/4000 [==============================] - 0s 87us/sample - loss: 0.0419 - acc: 0.9977\n",
            "48\n",
            "4000/4000 [==============================] - 0s 90us/sample - loss: 0.0414 - acc: 0.9977\n",
            "49\n",
            "4000/4000 [==============================] - 0s 89us/sample - loss: 0.0408 - acc: 0.9977\n"
          ],
          "name": "stdout"
        }
      ]
    },
    {
      "cell_type": "code",
      "metadata": {
        "id": "TtLiKSVJnvLK",
        "colab_type": "code",
        "colab": {}
      },
      "source": [
        ""
      ],
      "execution_count": 0,
      "outputs": []
    },
    {
      "cell_type": "code",
      "metadata": {
        "id": "UzgywgucSvYg",
        "colab_type": "code",
        "outputId": "29c640f4-491e-4f50-f14d-a1841c0b79c2",
        "colab": {
          "base_uri": "https://localhost:8080/",
          "height": 34
        }
      },
      "source": [
        "!ls -d $PWD/*"
      ],
      "execution_count": 0,
      "outputs": [
        {
          "output_type": "stream",
          "text": [
            "/content/sample_data  /content/scattergraph.gif\n"
          ],
          "name": "stdout"
        }
      ]
    },
    {
      "cell_type": "markdown",
      "metadata": {
        "id": "r6V_uGLdYNo-",
        "colab_type": "text"
      },
      "source": [
        "<img src='/content/scattergraph.gif' />\n"
      ]
    },
    {
      "cell_type": "code",
      "metadata": {
        "id": "aoP_K2sRZY2Z",
        "colab_type": "code",
        "outputId": "e919632b-b935-4436-cea6-ac164b917f66",
        "colab": {
          "base_uri": "https://localhost:8080/",
          "height": 320
        }
      },
      "source": [
        "from IPython.display import Image\n",
        "Image('/content/scattergraph.gif')"
      ],
      "execution_count": 0,
      "outputs": [
        {
          "output_type": "error",
          "ename": "ValueError",
          "evalue": "ignored",
          "traceback": [
            "\u001b[0;31m---------------------------------------------------------------------------\u001b[0m",
            "\u001b[0;31mValueError\u001b[0m                                Traceback (most recent call last)",
            "\u001b[0;32m<ipython-input-7-86dc5c62cea1>\u001b[0m in \u001b[0;36m<module>\u001b[0;34m()\u001b[0m\n\u001b[1;32m      1\u001b[0m \u001b[0;32mfrom\u001b[0m \u001b[0mIPython\u001b[0m\u001b[0;34m.\u001b[0m\u001b[0mdisplay\u001b[0m \u001b[0;32mimport\u001b[0m \u001b[0mImage\u001b[0m\u001b[0;34m\u001b[0m\u001b[0;34m\u001b[0m\u001b[0m\n\u001b[0;32m----> 2\u001b[0;31m \u001b[0mImage\u001b[0m\u001b[0;34m(\u001b[0m\u001b[0;34m'/content/scattergraph.gif'\u001b[0m\u001b[0;34m)\u001b[0m\u001b[0;34m\u001b[0m\u001b[0;34m\u001b[0m\u001b[0m\n\u001b[0m",
            "\u001b[0;32m/usr/local/lib/python3.6/dist-packages/IPython/core/display.py\u001b[0m in \u001b[0;36m__init__\u001b[0;34m(self, data, url, filename, format, embed, width, height, retina, unconfined, metadata)\u001b[0m\n\u001b[1;32m   1013\u001b[0m \u001b[0;34m\u001b[0m\u001b[0m\n\u001b[1;32m   1014\u001b[0m         \u001b[0;32mif\u001b[0m \u001b[0mself\u001b[0m\u001b[0;34m.\u001b[0m\u001b[0membed\u001b[0m \u001b[0;32mand\u001b[0m \u001b[0mself\u001b[0m\u001b[0;34m.\u001b[0m\u001b[0mformat\u001b[0m \u001b[0;32mnot\u001b[0m \u001b[0;32min\u001b[0m \u001b[0mself\u001b[0m\u001b[0;34m.\u001b[0m\u001b[0m_ACCEPTABLE_EMBEDDINGS\u001b[0m\u001b[0;34m:\u001b[0m\u001b[0;34m\u001b[0m\u001b[0;34m\u001b[0m\u001b[0m\n\u001b[0;32m-> 1015\u001b[0;31m             \u001b[0;32mraise\u001b[0m \u001b[0mValueError\u001b[0m\u001b[0;34m(\u001b[0m\u001b[0;34m\"Cannot embed the '%s' image format\"\u001b[0m \u001b[0;34m%\u001b[0m \u001b[0;34m(\u001b[0m\u001b[0mself\u001b[0m\u001b[0;34m.\u001b[0m\u001b[0mformat\u001b[0m\u001b[0;34m)\u001b[0m\u001b[0;34m)\u001b[0m\u001b[0;34m\u001b[0m\u001b[0;34m\u001b[0m\u001b[0m\n\u001b[0m\u001b[1;32m   1016\u001b[0m         \u001b[0mself\u001b[0m\u001b[0;34m.\u001b[0m\u001b[0mwidth\u001b[0m \u001b[0;34m=\u001b[0m \u001b[0mwidth\u001b[0m\u001b[0;34m\u001b[0m\u001b[0;34m\u001b[0m\u001b[0m\n\u001b[1;32m   1017\u001b[0m         \u001b[0mself\u001b[0m\u001b[0;34m.\u001b[0m\u001b[0mheight\u001b[0m \u001b[0;34m=\u001b[0m \u001b[0mheight\u001b[0m\u001b[0;34m\u001b[0m\u001b[0;34m\u001b[0m\u001b[0m\n",
            "\u001b[0;31mValueError\u001b[0m: Cannot embed the 'gif' image format"
          ]
        }
      ]
    },
    {
      "cell_type": "code",
      "metadata": {
        "id": "v5kWWg52cYvj",
        "colab_type": "code",
        "outputId": "a386d79f-5bef-4b98-ecdd-a5c200ed4ced",
        "colab": {
          "base_uri": "https://localhost:8080/",
          "height": 479
        }
      },
      "source": [
        "!sudo apt-get install webp\n"
      ],
      "execution_count": 0,
      "outputs": [
        {
          "output_type": "stream",
          "text": [
            "Reading package lists... Done\n",
            "Building dependency tree       \n",
            "Reading state information... Done\n",
            "The following package was automatically installed and is no longer required:\n",
            "  libnvidia-common-410\n",
            "Use 'sudo apt autoremove' to remove it.\n",
            "The following NEW packages will be installed:\n",
            "  webp\n",
            "0 upgraded, 1 newly installed, 0 to remove and 4 not upgraded.\n",
            "Need to get 78.5 kB of archives.\n",
            "After this operation, 275 kB of additional disk space will be used.\n",
            "Get:1 http://archive.ubuntu.com/ubuntu bionic/universe amd64 webp amd64 0.6.1-2 [78.5 kB]\n",
            "Fetched 78.5 kB in 1s (53.4 kB/s)\n",
            "debconf: unable to initialize frontend: Dialog\n",
            "debconf: (No usable dialog-like program is installed, so the dialog based frontend cannot be used. at /usr/share/perl5/Debconf/FrontEnd/Dialog.pm line 76, <> line 1.)\n",
            "debconf: falling back to frontend: Readline\n",
            "debconf: unable to initialize frontend: Readline\n",
            "debconf: (This frontend requires a controlling tty.)\n",
            "debconf: falling back to frontend: Teletype\n",
            "dpkg-preconfigure: unable to re-open stdin: \n",
            "Selecting previously unselected package webp.\n",
            "(Reading database ... 130963 files and directories currently installed.)\n",
            "Preparing to unpack .../webp_0.6.1-2_amd64.deb ...\n",
            "Unpacking webp (0.6.1-2) ...\n",
            "Processing triggers for man-db (2.8.3-2ubuntu0.1) ...\n",
            "Setting up webp (0.6.1-2) ...\n"
          ],
          "name": "stdout"
        }
      ]
    },
    {
      "cell_type": "code",
      "metadata": {
        "id": "xRleRhYxZY8I",
        "colab_type": "code",
        "outputId": "38ea4e67-6848-4ce2-d79f-47021090a6a1",
        "colab": {
          "base_uri": "https://localhost:8080/",
          "height": 476
        }
      },
      "source": [
        "!gif2webp"
      ],
      "execution_count": 0,
      "outputs": [
        {
          "output_type": "stream",
          "text": [
            "Usage:\n",
            " gif2webp [options] gif_file -o webp_file\n",
            "Options:\n",
            "  -h / -help ............. this help\n",
            "  -lossy ................. encode image using lossy compression\n",
            "  -mixed ................. for each frame in the image, pick lossy\n",
            "                           or lossless compression heuristically\n",
            "  -q <float> ............. quality factor (0:small..100:big)\n",
            "  -m <int> ............... compression method (0=fast, 6=slowest)\n",
            "  -min_size .............. minimize output size (default:off)\n",
            "                           lossless compression by default; can be\n",
            "                           combined with -q, -m, -lossy or -mixed\n",
            "                           options\n",
            "  -kmin <int> ............ min distance between key frames\n",
            "  -kmax <int> ............ max distance between key frames\n",
            "  -f <int> ............... filter strength (0=off..100)\n",
            "  -metadata <string> ..... comma separated list of metadata to\n",
            "                           copy from the input to the output if present\n",
            "                           Valid values: all, none, icc, xmp (default)\n",
            "  -loop_compatibility .... use compatibility mode for Chrome\n",
            "                           version prior to M62 (inclusive)\n",
            "  -mt .................... use multi-threading if available\n",
            "\n",
            "  -version ............... print version number and exit\n",
            "  -v ..................... verbose\n",
            "  -quiet ................. don't print anything\n",
            "\n"
          ],
          "name": "stdout"
        }
      ]
    },
    {
      "cell_type": "code",
      "metadata": {
        "id": "B3OZlaqycjgp",
        "colab_type": "code",
        "outputId": "4fb234e4-f332-4f82-f80b-d382f8c35557",
        "colab": {
          "base_uri": "https://localhost:8080/",
          "height": 34
        }
      },
      "source": [
        "!gif2webp /content/scattergraph.gif -o scattergraph.webp\n"
      ],
      "execution_count": 0,
      "outputs": [
        {
          "output_type": "stream",
          "text": [
            "Saved output file (99656 bytes): scattergraph.webp\n"
          ],
          "name": "stdout"
        }
      ]
    },
    {
      "cell_type": "code",
      "metadata": {
        "id": "WoyTNCM4jqgg",
        "colab_type": "code",
        "colab": {}
      },
      "source": [
        "plt.show()"
      ],
      "execution_count": 0,
      "outputs": []
    }
  ]
}