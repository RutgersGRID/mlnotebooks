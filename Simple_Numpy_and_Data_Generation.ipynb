{
  "nbformat": 4,
  "nbformat_minor": 0,
  "metadata": {
    "colab": {
      "name": "Simple Numpy and Data Generation",
      "provenance": [],
      "collapsed_sections": [],
      "include_colab_link": true
    },
    "kernelspec": {
      "name": "python3",
      "display_name": "Python 3"
    }
  },
  "cells": [
    {
      "cell_type": "markdown",
      "metadata": {
        "id": "view-in-github",
        "colab_type": "text"
      },
      "source": [
        "<a href=\"https://colab.research.google.com/github/RutgersGRID/mlnotebooks/blob/master/Simple_Numpy_and_Data_Generation.ipynb\" target=\"_parent\"><img src=\"https://colab.research.google.com/assets/colab-badge.svg\" alt=\"Open In Colab\"/></a>"
      ]
    },
    {
      "cell_type": "markdown",
      "metadata": {
        "id": "gvT4uSrliJix",
        "colab_type": "text"
      },
      "source": [
        "\n",
        "\n",
        "\n",
        "# Simple Numpy and Data Generation\n",
        "\n",
        "Examples of random rolling and lookup tables\n",
        " * Numpy reference: https://docs.scipy.org/doc/numpy-1.16.1/\n",
        " * Print format reference: https://docs.python.org/3/tutorial/inputoutput.html\n"
      ]
    },
    {
      "cell_type": "code",
      "metadata": {
        "id": "CMQ8RL2diGMD",
        "colab_type": "code",
        "colab": {}
      },
      "source": [
        "# Imports\n",
        "import numpy as np"
      ],
      "execution_count": 0,
      "outputs": []
    },
    {
      "cell_type": "markdown",
      "metadata": {
        "id": "AFMl6uXemque",
        "colab_type": "text"
      },
      "source": [
        "Dice Rolling"
      ]
    },
    {
      "cell_type": "code",
      "metadata": {
        "id": "X8Tgl8amiJWm",
        "colab_type": "code",
        "outputId": "79cac3f6-90a7-41be-e725-a85b3eca1c53",
        "colab": {
          "base_uri": "https://localhost:8080/",
          "height": 245
        }
      },
      "source": [
        "# print and format resources: \n",
        "# https://docs.python.org/3/tutorial/inputoutput.html\n",
        "# https://www.python-course.eu/python3_formatted_output.php\n",
        "\n",
        "# D2 rolled 10 times: coin flip\n",
        "rolls = np.random.randint(2, size=10)\n",
        "print(f'd2x10 coin flip:\\n {rolls}')\n",
        "\n",
        "#D6 rolled 10 times\n",
        "rolls = np.random.randint(1,7, size=10)\n",
        "print(f'd6x10: \\n{rolls}')\n",
        "\n",
        "#D4 rolled 10 times\n",
        "rolls = np.random.randint(1,5, size=10)\n",
        "print(f'd4x10: \\n{rolls}')\n",
        "\n",
        "#D8 rolled 10 times\n",
        "rolls = np.random.randint(1,9, size=10)\n",
        "print(f'd8x10: \\n{rolls}')\n",
        "\n",
        "#D10 rolled 10 times\n",
        "rolls = np.random.randint(1,11, size=10)\n",
        "print(f'd10x10: \\n{rolls}')\n",
        "\n",
        "#D20 rolled 2x10 times\n",
        "rolls = np.random.randint(1,21, size=(2,10))\n",
        "print(f'd20, 2x10: \\n{rolls}')"
      ],
      "execution_count": 0,
      "outputs": [
        {
          "output_type": "stream",
          "text": [
            "d2x10 coin flip:\n",
            " [0 1 0 0 1 1 0 1 1 1]\n",
            "d6x10: \n",
            "[1 4 5 1 1 5 4 2 4 4]\n",
            "d4x10: \n",
            "[4 2 4 3 4 3 4 1 4 3]\n",
            "d8x10: \n",
            "[6 5 2 2 5 2 1 8 3 3]\n",
            "d10x10: \n",
            "[5 3 3 3 4 6 1 6 3 7]\n",
            "d20, 2x10: \n",
            "[[16 17 10 14  3  9  2 19  8  7]\n",
            " [13 11 10  2 17 18  5  5  9 12]]\n"
          ],
          "name": "stdout"
        }
      ]
    },
    {
      "cell_type": "code",
      "metadata": {
        "id": "2Zhj5DhgqRqU",
        "colab_type": "code",
        "outputId": "0b6f1279-1c33-4acd-abc6-775ce53b4f64",
        "colab": {
          "base_uri": "https://localhost:8080/",
          "height": 175
        }
      },
      "source": [
        "#D6 rolled 10 times\n",
        "rolls = np.random.randint(1,7, size=(3,3))\n",
        "print(f'd6, 3x3: \\n{rolls}\\n')\n",
        "rolls = rolls + 1\n",
        "print(f'd6 + 1, 3x3: \\n{rolls}')\n"
      ],
      "execution_count": 0,
      "outputs": [
        {
          "output_type": "stream",
          "text": [
            "d6, 3x3: \n",
            "[[2 6 5]\n",
            " [5 5 4]\n",
            " [4 2 6]]\n",
            "\n",
            "d6 + 1, 3x3: \n",
            "[[3 7 6]\n",
            " [6 6 5]\n",
            " [5 3 7]]\n"
          ],
          "name": "stdout"
        }
      ]
    },
    {
      "cell_type": "code",
      "metadata": {
        "id": "6VtGflvdttta",
        "colab_type": "code",
        "outputId": "3626ecff-00b1-4214-ef71-ba124550cfea",
        "colab": {
          "base_uri": "https://localhost:8080/",
          "height": 35
        }
      },
      "source": [
        "# Example character creation table from Cyberpunk 2020\n",
        "# https://github.com/ericdorsey/cp2020/blob/master/js/cp2020.js\n",
        "clothes = {\n",
        "    1: \"Biker leathers\",\n",
        "    2: \"Blue jeans\",\n",
        "    3: \"Corporate suits\",\n",
        "    4: \"Jumpsuits\",\n",
        "    5: \"Miniskirts\",\n",
        "    6: \"High Fashion\",\n",
        "    7: \"Cammos\",\n",
        "    8: \"Normal clothes\",\n",
        "    9: \"Nude\",\n",
        "    10: \"Bag lady chic\"\n",
        "}\n",
        "\n",
        "roll = np.random.randint(1,11)\n",
        "clothes[roll]"
      ],
      "execution_count": 0,
      "outputs": [
        {
          "output_type": "execute_result",
          "data": {
            "text/plain": [
              "'Miniskirts'"
            ]
          },
          "metadata": {
            "tags": []
          },
          "execution_count": 5
        }
      ]
    },
    {
      "cell_type": "code",
      "metadata": {
        "id": "g9fF7SWmugyQ",
        "colab_type": "code",
        "outputId": "42d2259f-5c5c-4ce1-daa7-9f44921a2902",
        "colab": {
          "base_uri": "https://localhost:8080/",
          "height": 35
        }
      },
      "source": [
        "hairStyle = {\n",
        "    1: \"Mohawk\",\n",
        "    2: \"Long & Ratty\",\n",
        "    3: \"Short & Spiked\",\n",
        "    4: \"Wild & all over\",\n",
        "    5: \"Bald\",\n",
        "    6: \"Striped\",\n",
        "    7: \"Tinted\",\n",
        "    8: \"Neat, short\",\n",
        "    9: \"Short, curly\",\n",
        "    10: \"Long, straight\"\n",
        "}\n",
        "\n",
        "roll = np.random.randint(1,11)\n",
        "hairStyle[roll]"
      ],
      "execution_count": 0,
      "outputs": [
        {
          "output_type": "execute_result",
          "data": {
            "text/plain": [
              "'Neat, short'"
            ]
          },
          "metadata": {
            "tags": []
          },
          "execution_count": 6
        }
      ]
    },
    {
      "cell_type": "markdown",
      "metadata": {
        "id": "op3i9EV24OiJ",
        "colab_type": "text"
      },
      "source": [
        "## Random generated patterns"
      ]
    },
    {
      "cell_type": "code",
      "metadata": {
        "id": "vU9h6Rfv3Gpi",
        "colab_type": "code",
        "outputId": "c31f7f29-7b13-47b4-fcb7-82eaf8af722b",
        "colab": {
          "base_uri": "https://localhost:8080/",
          "height": 1000
        }
      },
      "source": [
        "# 8 random bit images\n",
        "image1 = np.random.randint(2, size=(8*8))\n",
        "print(f'Image 8x8 1 hot bitmap: \\n{image1}\\n')\n",
        "\n",
        "# 8 random grayscale bit images\n",
        "image2 = np.random.randint(256, size=(8*8))\n",
        "print(f'Image 8x8 1 grayscale: \\n{image2}\\n')\n",
        "\n",
        "# 8 bit random rgb image\n",
        "image3 = np.random.randint(256, size=(8*8,3))\n",
        "print(f'Image 8x8 1 rgb: \\n{image3}\\n')\n"
      ],
      "execution_count": 0,
      "outputs": [
        {
          "output_type": "stream",
          "text": [
            "Image 8x8 1 hot bitmap: \n",
            "[1 1 0 1 0 0 1 1 0 0 1 0 1 1 1 0 0 1 1 1 1 0 1 1 0 0 1 0 0 1 1 1 0 1 1 0 1\n",
            " 0 1 0 1 1 1 0 0 1 1 0 1 1 1 0 1 1 1 1 0 0 1 1 0 0 0 0]\n",
            "\n",
            "Image 8x8 1 grayscale: \n",
            "[ 90  20 217 114 168 229 253 221 129 253 255   1  12 126 154  77 114 237\n",
            "  41  85   4  95 177  82 164 119  65 130  28 101 181 109  59 190  68 240\n",
            "  56  25  96  18  66 205 190  72   6  32 197  17  66 160 194  55  63 101\n",
            " 247 194  15  79  33 199  75  63  99  50]\n",
            "\n",
            "Image 8x8 1 rgb: \n",
            "[[ 79 208  69]\n",
            " [230 212  28]\n",
            " [247 240 103]\n",
            " [ 91  54 168]\n",
            " [ 98 135 103]\n",
            " [ 93  48 146]\n",
            " [ 31 146 139]\n",
            " [208 238 149]\n",
            " [155 249 174]\n",
            " [119  69  69]\n",
            " [ 66 181 157]\n",
            " [ 21 173 120]\n",
            " [198  32  38]\n",
            " [  1 103 168]\n",
            " [ 94 175  57]\n",
            " [ 68 247 201]\n",
            " [228  10  23]\n",
            " [219  44 233]\n",
            " [ 35  53  44]\n",
            " [195  96 170]\n",
            " [151 108  31]\n",
            " [ 86 113 112]\n",
            " [ 33 199 200]\n",
            " [246  75 234]\n",
            " [155 118 132]\n",
            " [107 222  61]\n",
            " [191 197  75]\n",
            " [106 135  74]\n",
            " [ 22 199 148]\n",
            " [138 187 130]\n",
            " [ 42 157  13]\n",
            " [230  10 146]\n",
            " [138  57 147]\n",
            " [176 196 217]\n",
            " [152  67  69]\n",
            " [ 31  25  55]\n",
            " [191 165  13]\n",
            " [ 39 101  15]\n",
            " [ 12  10 182]\n",
            " [230 101 182]\n",
            " [205  14  33]\n",
            " [ 16 224  81]\n",
            " [240 233  21]\n",
            " [ 79 124  62]\n",
            " [238  47 252]\n",
            " [  4  24 231]\n",
            " [ 90 207 254]\n",
            " [202  28 232]\n",
            " [ 87  68 206]\n",
            " [ 97  60 226]\n",
            " [123 135  86]\n",
            " [174  44 167]\n",
            " [ 16  90 250]\n",
            " [ 29 121 217]\n",
            " [190 255   4]\n",
            " [134 131 219]\n",
            " [232   8 139]\n",
            " [ 66 118 183]\n",
            " [ 59  54   4]\n",
            " [213  15  78]\n",
            " [193  39 113]\n",
            " [199  97  65]\n",
            " [216  64   9]\n",
            " [169  51 165]]\n",
            "\n"
          ],
          "name": "stdout"
        }
      ]
    },
    {
      "cell_type": "markdown",
      "metadata": {
        "id": "iEoK6L1zk3cQ",
        "colab_type": "text"
      },
      "source": [
        "## Quick visualization with matplotlib"
      ]
    },
    {
      "cell_type": "code",
      "metadata": {
        "id": "73YIA0dLlXo4",
        "colab_type": "code",
        "colab": {}
      },
      "source": [
        "import matplotlib.pyplot as plt\n",
        "plt.style.use('grayscale')\n",
        "# https://matplotlib.org/api/image_api.html\n",
        "# https://matplotlib.org/users/image_tutorial.html\n",
        "import matplotlib.image as mpimg\n",
        "%matplotlib inline\n",
        "\n",
        "\n"
      ],
      "execution_count": 0,
      "outputs": []
    },
    {
      "cell_type": "markdown",
      "metadata": {
        "id": "S27octcd7Kxn",
        "colab_type": "text"
      },
      "source": [
        "## Note\n",
        "Images are Numpy Arrays\n",
        "http://www.imagexd.org/tutorial/lessons/0_images_are_arrays.html\n"
      ]
    },
    {
      "cell_type": "code",
      "metadata": {
        "id": "3BwbyIxrtjp0",
        "colab_type": "code",
        "outputId": "46ea48bc-17d7-45a6-8e0a-4a21bff0ccaf",
        "colab": {
          "base_uri": "https://localhost:8080/",
          "height": 92
        }
      },
      "source": [
        "\n",
        "tt = type (image1)\n",
        "ishape = image1.shape\n",
        "print(tt)\n",
        "print(ishape)\n",
        "\n",
        "# Below generates an error becasue images are 2 dimensional\n",
        "#imgplot = plt.imshow(image1)\n",
        "\n",
        "# Make it 2d\n",
        "img = np.reshape(image1, (1, 64))\n",
        "imgplot = plt.imshow(img)"
      ],
      "execution_count": 0,
      "outputs": [
        {
          "output_type": "stream",
          "text": [
            "<class 'numpy.ndarray'>\n",
            "(64,)\n"
          ],
          "name": "stdout"
        },
        {
          "output_type": "display_data",
          "data": {
            "image/png": "[encoded data removed]",
            "text/plain": [
              "<Figure size 432x288 with 1 Axes>"
            ]
          },
          "metadata": {
            "tags": []
          }
        }
      ]
    },
    {
      "cell_type": "code",
      "metadata": {
        "id": "p0ZYCjKjk1oS",
        "colab_type": "code",
        "outputId": "f87f03c6-4ea5-4454-f887-2a08f37fe850",
        "colab": {
          "base_uri": "https://localhost:8080/",
          "height": 480
        }
      },
      "source": [
        "\n",
        "\n",
        "\n",
        "# The arrays we generated before are one dimensional. So long single lines.\n",
        "# We need a 2 dimensional array\n",
        "\n",
        "# 8 random bit images\n",
        "image1 = np.random.randint(2, size=(8,8))\n",
        "print(f'Image 8x8 1 hot bitmap: \\n{image1}\\n')\n",
        "tt = type (image1)\n",
        "ishape = image1.shape\n",
        "print(tt)\n",
        "print(ishape)\n",
        "\n",
        "imgplot = plt.imshow(image1)\n",
        "\n",
        "\n",
        "\n"
      ],
      "execution_count": 0,
      "outputs": [
        {
          "output_type": "stream",
          "text": [
            "Image 8x8 1 hot bitmap: \n",
            "[[0 0 0 1 1 0 1 0]\n",
            " [0 0 0 1 1 0 1 0]\n",
            " [1 1 1 0 1 0 1 1]\n",
            " [0 0 0 0 0 1 0 0]\n",
            " [0 1 1 1 0 1 1 1]\n",
            " [0 1 0 1 0 0 1 1]\n",
            " [1 0 0 0 0 0 1 1]\n",
            " [1 1 0 1 1 1 0 0]]\n",
            "\n",
            "<class 'numpy.ndarray'>\n",
            "(8, 8)\n"
          ],
          "name": "stdout"
        },
        {
          "output_type": "display_data",
          "data": {
            "image/png": "[encoded data removed]",
            "text/plain": [
              "<Figure size 432x288 with 1 Axes>"
            ]
          },
          "metadata": {
            "tags": []
          }
        }
      ]
    },
    {
      "cell_type": "code",
      "metadata": {
        "id": "r1ZgI68HxUE1",
        "colab_type": "code",
        "outputId": "4416d275-1277-45bb-dd51-bebd59b05cc2",
        "colab": {
          "base_uri": "https://localhost:8080/",
          "height": 269
        }
      },
      "source": [
        "\n",
        "image2 = np.reshape(image2, (8,8))\n",
        "imgplot = plt.imshow(image2)"
      ],
      "execution_count": 0,
      "outputs": [
        {
          "output_type": "display_data",
          "data": {
            "image/png": "[encoded data removed]",
            "text/plain": [
              "<Figure size 432x288 with 1 Axes>"
            ]
          },
          "metadata": {
            "tags": []
          }
        }
      ]
    },
    {
      "cell_type": "code",
      "metadata": {
        "id": "zZY3x-RXE-R0",
        "colab_type": "code",
        "colab": {}
      },
      "source": [
        "\n",
        "\n",
        "\n",
        "\n"
      ],
      "execution_count": 0,
      "outputs": []
    },
    {
      "cell_type": "code",
      "metadata": {
        "id": "7Gm4eguwxUTt",
        "colab_type": "code",
        "outputId": "72379654-7dba-4241-b993-d83e169e86df",
        "colab": {
          "base_uri": "https://localhost:8080/",
          "height": 269
        }
      },
      "source": [
        "image3 = np.reshape(image3, (8,8,3))\n",
        "imgplot = plt.imshow(image3)\n"
      ],
      "execution_count": 0,
      "outputs": [
        {
          "output_type": "display_data",
          "data": {
            "image/png": "[encoded data removed]",
            "text/plain": [
              "<Figure size 432x288 with 1 Axes>"
            ]
          },
          "metadata": {
            "tags": []
          }
        }
      ]
    },
    {
      "cell_type": "code",
      "metadata": {
        "id": "jRvDPGHtxjH7",
        "colab_type": "code",
        "outputId": "ae2f0315-6012-4710-c2a7-cf35ffd74e09",
        "colab": {
          "base_uri": "https://localhost:8080/",
          "height": 72
        }
      },
      "source": [
        "image3 = np.reshape(image3, (2,32,3))\n",
        "imgplot = plt.imshow(image3)"
      ],
      "execution_count": 0,
      "outputs": [
        {
          "output_type": "display_data",
          "data": {
            "image/png": "[encoded data removed]",
            "text/plain": [
              "<Figure size 432x288 with 1 Axes>"
            ]
          },
          "metadata": {
            "tags": []
          }
        }
      ]
    },
    {
      "cell_type": "markdown",
      "metadata": {
        "id": "oKKgyClvlCfD",
        "colab_type": "text"
      },
      "source": [
        "## Quick visualization with SciKit Image"
      ]
    },
    {
      "cell_type": "code",
      "metadata": {
        "id": "IGVyQo0hu-JA",
        "colab_type": "code",
        "outputId": "3392ae7f-afbf-4dc3-abad-ad2f208e3355",
        "colab": {
          "base_uri": "https://localhost:8080/",
          "height": 196
        }
      },
      "source": [
        "# Import skimage\n",
        "# http://scikit-image.org/docs/dev/user_guide/numpy_images.html\n",
        "\n",
        "#Another great tutorial:\n",
        "# http://scipy-lectures.org/advanced/image_processing/\n",
        "\n",
        "from skimage import data\n",
        "from scipy import ndimage as ndi\n",
        "from skimage.feature import peak_local_max\n",
        "from skimage import data, img_as_float\n",
        "\n",
        "im = img_as_float(data.coins())\n",
        "\n",
        "# image_max is the dilation of im with a 20*20 structuring element\n",
        "# It is used within peak_local_max function\n",
        "image_max = ndi.maximum_filter(im, size=20, mode='constant')\n",
        "\n",
        "# Comparison between image_max and im to find the coordinates of local maxima\n",
        "coordinates = peak_local_max(im, min_distance=20)\n",
        "\n",
        "# display results\n",
        "fig, axes = plt.subplots(1, 3, figsize=(8, 3), sharex=True, sharey=True)\n",
        "ax = axes.ravel()\n",
        "ax[0].imshow(im, cmap=plt.cm.gray)\n",
        "ax[0].axis('off')\n",
        "ax[0].set_title('Original')\n",
        "\n",
        "ax[1].imshow(image_max, cmap=plt.cm.gray)\n",
        "ax[1].axis('off')\n",
        "ax[1].set_title('Maximum filter')\n",
        "\n",
        "ax[2].imshow(im, cmap=plt.cm.gray)\n",
        "ax[2].autoscale(False)\n",
        "ax[2].plot(coordinates[:, 1], coordinates[:, 0], 'r.')\n",
        "ax[2].axis('off')\n",
        "ax[2].set_title('Peak local max')\n",
        "\n",
        "fig.tight_layout()\n",
        "\n",
        "plt.show()"
      ],
      "execution_count": 0,
      "outputs": [
        {
          "output_type": "display_data",
          "data": {
            "image/png": "[encoded data removed]",
            "text/plain": [
              "<Figure size 576x216 with 3 Axes>"
            ]
          },
          "metadata": {
            "tags": []
          }
        }
      ]
    },
    {
      "cell_type": "markdown",
      "metadata": {
        "id": "W3SHZ0kn00vx",
        "colab_type": "text"
      },
      "source": [
        "# Numpy and linear systems\n",
        "Linear Systems with Three Variables"
      ]
    },
    {
      "cell_type": "markdown",
      "metadata": {
        "id": "2JfJjvGEp7PP",
        "colab_type": "text"
      },
      "source": [
        "| 2x-4y+4z=8  |\n",
        "\n",
        "| 34x+3y-z=30 |\n",
        "\n",
        "| x+y+z=108   |"
      ]
    },
    {
      "cell_type": "code",
      "metadata": {
        "id": "5hWxz_Jap62P",
        "colab_type": "code",
        "outputId": "446d4b38-9dcc-41a4-84d6-d0356bc68830",
        "colab": {
          "base_uri": "https://localhost:8080/",
          "height": 35
        }
      },
      "source": [
        "a = np.array([[2, -4, 4], [34, 3, -1], [1, 1, 1]])\n",
        "b = np.array([8, 30, 108])\n",
        "x = np.linalg.solve(a, b)\n",
        "print (x )"
      ],
      "execution_count": 0,
      "outputs": [
        {
          "output_type": "stream",
          "text": [
            "[-2.17647059 53.54411765 56.63235294]\n"
          ],
          "name": "stdout"
        }
      ]
    }
  ]
}