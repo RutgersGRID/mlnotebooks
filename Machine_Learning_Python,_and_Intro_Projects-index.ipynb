{
  "nbformat": 4,
  "nbformat_minor": 0,
  "metadata": {
    "colab": {
      "name": "Copy of Machine Learning, Python, and Intro Projects",
      "provenance": [],
      "collapsed_sections": [],
      "toc_visible": true,
      "include_colab_link": true
    },
    "kernelspec": {
      "name": "python3",
      "display_name": "Python 3"
    }
  },
  "cells": [
    {
      "cell_type": "markdown",
      "metadata": {
        "id": "view-in-github",
        "colab_type": "text"
      },
      "source": [
        "<a href=\"https://colab.research.google.com/github/RutgersGRID/mlnotebooks/blob/master/Machine_Learning_Python%2C_and_Intro_Projects-index.ipynb\" target=\"_parent\"><img src=\"https://colab.research.google.com/assets/colab-badge.svg\" alt=\"Open In Colab\"/></a>"
      ]
    },
    {
      "cell_type": "code",
      "metadata": {
        "id": "1IFkTkYIMPKd",
        "colab_type": "code",
        "outputId": "5b80a909-c0e9-4979-f7c9-f92b0645a024",
        "colab": {
          "base_uri": "https://localhost:8080/",
          "height": 34
        }
      },
      "source": [
        "print(\"Hello\")"
      ],
      "execution_count": 0,
      "outputs": [
        {
          "output_type": "stream",
          "text": [
            "Hello\n"
          ],
          "name": "stdout"
        }
      ]
    },
    {
      "cell_type": "markdown",
      "metadata": {
        "id": "BN97pZPPMatH",
        "colab_type": "text"
      },
      "source": [
        "## Concepts\n",
        "What is Machine Learning:\n",
        "*  **Overview Notebook**\n",
        "(https://docs.google.com/document/d/1pdwQhEcl_FRUmRj3I_hpa50pDvCLRQO4lBGbynAzJVU/edit#heading=h.9k4075ap9cqr)\n",
        "\n",
        "Examples of:\n",
        "* **Supervised Learning**\n",
        "\n",
        "     (https://medium.com/machine-learning-for-humans/supervised-learning-740383a2feab)\n",
        "\n",
        "  (https://github.com/afshinea/stanford-cs-229-machine-learning/blob/master/en/cheatsheet-supervised-learning.pdf)\n",
        "* **UnSupervised**\n",
        "\n",
        "  (https://medium.com/machine-learning-for-humans/unsupervised-learning-f45587588294)\n",
        "\n",
        "  (https://github.com/afshinea/stanford-cs-229-machine-learning/blob/master/en/cheatsheet-unsupervised-learning.pdf)\n",
        "* **Generative Adversarial Network**\n",
        " * Style Transfer (https://colab.research.google.com/drive/1_DezfBDvq8_7rjGOdnRVJjAH2oKXquF2)\n",
        " \n",
        "Notebooks (Skills) \n",
        "* **Basic Python**\n",
        "\n",
        "  (https://colab.research.google.com/drive/1DBWkwR5kccwB0-DCcmTuk__48sg3aFzj#scrollTo=Xdd6_ufwBiL7) Mr. Anderson\n",
        "   (https://colab.research.google.com/drive/1DacHWYK5dIdJctNLFfeWdJvyynmGij70?authuser=1#scrollTo=RXN8-RcWdE55) Mrinal\n",
        "                  \n",
        "* **Numpy** (https://colab.research.google.com/drive/1DBWkwR5kccwB0-DCcmTuk__48sg3aFzj#scrollTo=Xdd6_ufwBiL7)\n",
        "* **Math for Machine Learning** (https://colab.research.google.com/drive/1DBWkwR5kccwB0-DCcmTuk__48sg3aFzj#scrollTo=Xdd6_ufwBiL7)\n",
        "* **MatplotLib** (https://colab.research.google.com/drive/1DBWkwR5kccwB0-DCcmTuk__48sg3aFzj#scrollTo=Xdd6_ufwBiL7)\n",
        "* **SciKit**\n",
        "\n",
        "  (https://colab.research.google.com/drive/1E7z5DC4Smmvz-jessV1BigUDh24qRZdx)\n",
        "(https://colab.research.google.com/drive/10E94tbRliQrVUxm4ojZ_LEg8Z0xGBF1q)\n",
        "\n",
        "* **Tensorflow**\n",
        "\n",
        "  (https://www.katacoda.com/basiafusinska/courses/tensorflow-getting-started/tensorflow-mnist-beginner)\n",
        "  (https://www.tensorflow.org/tutorials)\n",
        "\n",
        "\n",
        "## Projects:\n",
        "\n",
        "* **Identify coins** (https://colab.research.google.com/drive/1x5SdWXMFBbgUiDTfpSYFodXKIb5eVOKV)\n",
        " * Head vs Tails (TBD)\n",
        " * Value and Year of coin (TBD)\n",
        " * Coin Flip\n",
        " (https://colab.research.google.com/drive/1q8N9HBWILDUOd8fNjQOCmEnQoEll7MEo#scrollTo=JY_CiTBCJGXN&uniqifier=3)\n",
        "\n",
        "* **MNIST Digits greyscale basic**\n",
        "\n",
        "  (https://colab.research.google.com/drive/1QbA4pm-6PIO5kUca7D8C6YoJDlRd7Gli#scrollTo=eYhS7uxGT1gh)\n",
        "  \n",
        "* **MNIST Digits**\n",
        "\n",
        "  (https://colab.research.google.com/drive/1C0eapx7K03hI-u5yN2ZQF4Ewni-RTvYB#scrollTo=Z7cJc7XcSiOF)\n",
        "  \n",
        "* **MNIST Digits and Colors**\n",
        "  \n",
        "  (https://colab.research.google.com/drive/1FvVtf81CRUdFtL-44CrHpY3R9z35g0AX)\n",
        "  \n",
        "* **MNIST Fashion**\n",
        "\n",
        "  (https://colab.research.google.com/drive/1MWNk87unvcn4ZxDNTFuUFQoE9L6ow0dk)\n",
        "(https://colab.research.google.com/drive/1GJijdBWDc8GDJ6ebxLAaheOI-pqMOE4f#scrollTo=aZH9ZsaJ0D8C)\n",
        "(https://colab.research.google.com/github/tensorflow/docs/blob/master/site/en/tutorials/keras/basic_classification.ipynb#scrollTo=2tRmdq_8CaXb)\n",
        "(https://medium.com/tensorflow/hello-deep-learning-fashion-mnist-with-keras-50fcff8cd74a)\n"
      ]
    },
    {
      "cell_type": "markdown",
      "metadata": {
        "id": "tpSeDEfh4xSD",
        "colab_type": "text"
      },
      "source": [
        "# Additional Resources\n",
        "\n",
        "# Python Coding\n",
        "\n",
        "**Syntax and basic concepts**:[ Google’s Python Class](https://https://developers.google.com/edu/python/), \n",
        "[Learn Python the Hard Way](https://https://learnpythonthehardway.org/book/ex0.html).\n",
        "\n",
        "**Practice**: [Coderbyte](https://https://coderbyte.com/), [Codewars](https://https://www.codewars.com/), [HackerRank](https://https://www.hackerrank.com/)\n",
        "\n",
        "# Machine Learning\n",
        "Free [Machine Learning Course ](https://https://www.coursera.org/learn/machine-learning)\n",
        "\n",
        "  "
      ]
    },
    {
      "cell_type": "code",
      "metadata": {
        "id": "Uf_aL-YMfQYe",
        "colab_type": "code",
        "outputId": "ca0637b2-fecf-4f38-d2f1-a3404519ff9d",
        "colab": {
          "base_uri": "https://localhost:8080/",
          "height": 34
        }
      },
      "source": [
        "\n",
        "digits = [1,2,3]\n",
        "colors = ['red', 'green', 'blue']\n",
        "list(zip(digits, colors))\n",
        "\n",
        "\n"
      ],
      "execution_count": 0,
      "outputs": [
        {
          "output_type": "execute_result",
          "data": {
            "text/plain": [
              "[(1, 'red'), (2, 'green'), (3, 'blue')]"
            ]
          },
          "metadata": {
            "tags": []
          },
          "execution_count": 10
        }
      ]
    },
    {
      "cell_type": "code",
      "metadata": {
        "id": "SURQM-HmVQuY",
        "colab_type": "code",
        "colab": {}
      },
      "source": [
        ""
      ],
      "execution_count": 0,
      "outputs": []
    },
    {
      "cell_type": "markdown",
      "metadata": {
        "id": "Gsvm6NTU1F3D",
        "colab_type": "text"
      },
      "source": [
        "We can spend the first meeting crafting the objectives in Jupyter Notebooks/Google Colab:\n",
        "\n",
        "Create  a start Colab : Jupyter Notebook\n",
        "\n",
        "Short Orientation with MNIST Tutorial from Sendtex\n",
        "https://colab.research.google.com/drive/1ucL6wVcnrocsrTevYiCM8NtmkhgaWTNr#scrollTo=g4quIFeESgO2\n",
        "\n",
        "From there add to the Skill list.\n",
        "* Unix commands for working data and files\n",
        "* Python coding\n",
        "* Numpy\n",
        "* matplotlib\n",
        " * Showing images\n",
        " * Graphing\n",
        " * The patches feature for putting border/rectangles around things\n",
        "* SCIKit image\n",
        " * Showing images\n",
        " * Editing and normalizing images\n",
        " * Change background colors\n",
        " \n",
        "Revisit MNIST with colors and numbers\n",
        " * digits that had say red 9, 8 green, etc\n",
        " \n",
        " ```python\n",
        " digits = [1,2,3]\n",
        " colors = ['red', 'green', 'blUE']\n",
        " list(zip(digits, colors))\n",
        "\n",
        " ```\n",
        "\n",
        "Find Jupyter notebook/articles examples of types of machine learning.\n",
        " * MNIST digits, color change background\n",
        " * MNIST fashion\n",
        " * Style Transfer Example of using Predefined Model\n",
        "\n",
        " \n",
        " Custom images and network:\n",
        " * Coin identification and state"
      ]
    }
  ]
}