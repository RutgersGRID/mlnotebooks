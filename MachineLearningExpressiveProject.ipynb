{
  "nbformat": 4,
  "nbformat_minor": 0,
  "metadata": {
    "colab": {
      "name": "MachineLearningExpressiveProject",
      "provenance": [],
      "collapsed_sections": [],
      "include_colab_link": true
    },
    "kernelspec": {
      "name": "python3",
      "display_name": "Python 3"
    }
  },
  "cells": [
    {
      "cell_type": "markdown",
      "metadata": {
        "id": "view-in-github",
        "colab_type": "text"
      },
      "source": [
        "<a href=\"https://colab.research.google.com/github/RutgersGRID/mlnotebooks/blob/master/MachineLearningExpressiveProject.ipynb\" target=\"_parent\"><img src=\"https://colab.research.google.com/assets/colab-badge.svg\" alt=\"Open In Colab\"/></a>"
      ]
    },
    {
      "cell_type": "markdown",
      "metadata": {
        "id": "1PgyL0ipOIuC",
        "colab_type": "text"
      },
      "source": [
        "# Machine Learning Expressive Avatars\n",
        "\n",
        "\n",
        "## Open Pose\n",
        "\n",
        "* Face tracking\n",
        "* Body tracking\n",
        "\n",
        "## 3D Face construction from 2D image\n",
        "\n",
        "Demo:\n",
        "\n",
        "https://cvl-demos.cs.nott.ac.uk/vrn/\n",
        "\n",
        "Research Paper:\n",
        "\n",
        "http://aaronsplace.co.uk/papers/jackson2017recon/\n",
        "\n",
        "Github project:\n",
        "\n",
        "https://github.com/AaronJackson/vrn\n",
        "\n",
        "## Emotion Classification\n",
        "\n",
        "Facial Expression Classification Tutorial\n",
        "\n",
        "https://www.kaggle.com/ashishpatel26/tutorial-facial-expression-classification-keras\n",
        "\n",
        "Facial Emotion Demonstraton\n",
        "\n",
        "https://appliedmachinelearning.blog/2018/11/28/demonstration-of-facial-emotion-recognition-on-real-time-video-using-cnn-python-keras/\n",
        "\n",
        "##Face2Face Transfer\n",
        "\n",
        "Face Transfer: \n",
        "\n",
        "https://github.com/datitran/face2face-demo\n",
        "\n"
      ]
    },
    {
      "cell_type": "code",
      "metadata": {
        "id": "Xq0bT0D9OBzu",
        "colab_type": "code",
        "colab": {}
      },
      "source": [
        ""
      ],
      "execution_count": 0,
      "outputs": []
    }
  ]
}